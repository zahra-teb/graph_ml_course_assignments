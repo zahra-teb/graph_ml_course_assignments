{
  "nbformat": 4,
  "nbformat_minor": 0,
  "metadata": {
    "colab": {
      "provenance": [],
      "authorship_tag": "ABX9TyNwtVck2dxJnfUDmCjfc2a3",
      "include_colab_link": true
    },
    "kernelspec": {
      "name": "python3",
      "display_name": "Python 3"
    },
    "language_info": {
      "name": "python"
    }
  },
  "cells": [
    {
      "cell_type": "markdown",
      "metadata": {
        "id": "view-in-github",
        "colab_type": "text"
      },
      "source": [
        "<a href=\"https://colab.research.google.com/github/zahra-teb/graph_ml_course_assignments/blob/main/assignment_7/assignment_7.ipynb\" target=\"_parent\"><img src=\"https://colab.research.google.com/assets/colab-badge.svg\" alt=\"Open In Colab\"/></a>"
      ]
    },
    {
      "cell_type": "code",
      "source": [
        "!pip install dgl -f https://data.dgl.ai/wheels/repo.html"
      ],
      "metadata": {
        "colab": {
          "base_uri": "https://localhost:8080/"
        },
        "id": "SBrkbkVw5eqb",
        "outputId": "5bcce729-e2f0-4bac-fdef-890dea0501eb"
      },
      "execution_count": 1,
      "outputs": [
        {
          "output_type": "stream",
          "name": "stdout",
          "text": [
            "Looking in indexes: https://pypi.org/simple, https://us-python.pkg.dev/colab-wheels/public/simple/\n",
            "Looking in links: https://data.dgl.ai/wheels/repo.html\n",
            "Collecting dgl\n",
            "  Downloading dgl-1.1.0-cp310-cp310-manylinux1_x86_64.whl (5.9 MB)\n",
            "\u001b[2K     \u001b[90m━━━━━━━━━━━━━━━━━━━━━━━━━━━━━━━━━━━━━━━━\u001b[0m \u001b[32m5.9/5.9 MB\u001b[0m \u001b[31m41.3 MB/s\u001b[0m eta \u001b[36m0:00:00\u001b[0m\n",
            "\u001b[?25hRequirement already satisfied: numpy>=1.14.0 in /usr/local/lib/python3.10/dist-packages (from dgl) (1.22.4)\n",
            "Requirement already satisfied: scipy>=1.1.0 in /usr/local/lib/python3.10/dist-packages (from dgl) (1.10.1)\n",
            "Requirement already satisfied: networkx>=2.1 in /usr/local/lib/python3.10/dist-packages (from dgl) (3.1)\n",
            "Requirement already satisfied: requests>=2.19.0 in /usr/local/lib/python3.10/dist-packages (from dgl) (2.27.1)\n",
            "Requirement already satisfied: tqdm in /usr/local/lib/python3.10/dist-packages (from dgl) (4.65.0)\n",
            "Requirement already satisfied: psutil>=5.8.0 in /usr/local/lib/python3.10/dist-packages (from dgl) (5.9.5)\n",
            "Requirement already satisfied: urllib3<1.27,>=1.21.1 in /usr/local/lib/python3.10/dist-packages (from requests>=2.19.0->dgl) (1.26.15)\n",
            "Requirement already satisfied: certifi>=2017.4.17 in /usr/local/lib/python3.10/dist-packages (from requests>=2.19.0->dgl) (2022.12.7)\n",
            "Requirement already satisfied: charset-normalizer~=2.0.0 in /usr/local/lib/python3.10/dist-packages (from requests>=2.19.0->dgl) (2.0.12)\n",
            "Requirement already satisfied: idna<4,>=2.5 in /usr/local/lib/python3.10/dist-packages (from requests>=2.19.0->dgl) (3.4)\n",
            "Installing collected packages: dgl\n",
            "Successfully installed dgl-1.1.0\n"
          ]
        }
      ]
    },
    {
      "cell_type": "code",
      "source": [
        "!pip install dglgo -f https://data.dgl.ai/wheels-test/repo.html"
      ],
      "metadata": {
        "colab": {
          "base_uri": "https://localhost:8080/"
        },
        "id": "9XCFTIv552To",
        "outputId": "19bb26d4-3984-4fe9-fdee-d1c49b43102a"
      },
      "execution_count": 2,
      "outputs": [
        {
          "output_type": "stream",
          "name": "stdout",
          "text": [
            "Looking in indexes: https://pypi.org/simple, https://us-python.pkg.dev/colab-wheels/public/simple/\n",
            "Looking in links: https://data.dgl.ai/wheels-test/repo.html\n",
            "Collecting dglgo\n",
            "  Downloading dglgo-0.0.2-py3-none-any.whl (63 kB)\n",
            "\u001b[2K     \u001b[90m━━━━━━━━━━━━━━━━━━━━━━━━━━━━━━━━━━━━━━━━\u001b[0m \u001b[32m63.5/63.5 kB\u001b[0m \u001b[31m2.5 MB/s\u001b[0m eta \u001b[36m0:00:00\u001b[0m\n",
            "\u001b[?25hRequirement already satisfied: typer>=0.4.0 in /usr/local/lib/python3.10/dist-packages (from dglgo) (0.7.0)\n",
            "Collecting isort>=5.10.1 (from dglgo)\n",
            "  Downloading isort-5.12.0-py3-none-any.whl (91 kB)\n",
            "\u001b[2K     \u001b[90m━━━━━━━━━━━━━━━━━━━━━━━━━━━━━━━━━━━━━━━━\u001b[0m \u001b[32m91.2/91.2 kB\u001b[0m \u001b[31m7.4 MB/s\u001b[0m eta \u001b[36m0:00:00\u001b[0m\n",
            "\u001b[?25hCollecting autopep8>=1.6.0 (from dglgo)\n",
            "  Downloading autopep8-2.0.2-py2.py3-none-any.whl (45 kB)\n",
            "\u001b[2K     \u001b[90m━━━━━━━━━━━━━━━━━━━━━━━━━━━━━━━━━━━━━━━━\u001b[0m \u001b[32m45.2/45.2 kB\u001b[0m \u001b[31m4.6 MB/s\u001b[0m eta \u001b[36m0:00:00\u001b[0m\n",
            "\u001b[?25hCollecting numpydoc>=1.1.0 (from dglgo)\n",
            "  Downloading numpydoc-1.5.0-py3-none-any.whl (52 kB)\n",
            "\u001b[2K     \u001b[90m━━━━━━━━━━━━━━━━━━━━━━━━━━━━━━━━━━━━━━━━\u001b[0m \u001b[32m52.4/52.4 kB\u001b[0m \u001b[31m5.3 MB/s\u001b[0m eta \u001b[36m0:00:00\u001b[0m\n",
            "\u001b[?25hRequirement already satisfied: pydantic>=1.9.0 in /usr/local/lib/python3.10/dist-packages (from dglgo) (1.10.7)\n",
            "Collecting ruamel.yaml>=0.17.20 (from dglgo)\n",
            "  Downloading ruamel.yaml-0.17.28-py3-none-any.whl (109 kB)\n",
            "\u001b[2K     \u001b[90m━━━━━━━━━━━━━━━━━━━━━━━━━━━━━━━━━━━━━━━\u001b[0m \u001b[32m109.6/109.6 kB\u001b[0m \u001b[31m9.9 MB/s\u001b[0m eta \u001b[36m0:00:00\u001b[0m\n",
            "\u001b[?25hRequirement already satisfied: PyYAML>=5.1 in /usr/local/lib/python3.10/dist-packages (from dglgo) (6.0)\n",
            "Collecting ogb>=1.3.3 (from dglgo)\n",
            "  Downloading ogb-1.3.6-py3-none-any.whl (78 kB)\n",
            "\u001b[2K     \u001b[90m━━━━━━━━━━━━━━━━━━━━━━━━━━━━━━━━━━━━━━━━\u001b[0m \u001b[32m78.8/78.8 kB\u001b[0m \u001b[31m8.1 MB/s\u001b[0m eta \u001b[36m0:00:00\u001b[0m\n",
            "\u001b[?25hCollecting rdkit-pypi (from dglgo)\n",
            "  Downloading rdkit_pypi-2022.9.5-cp310-cp310-manylinux_2_17_x86_64.manylinux2014_x86_64.whl (29.4 MB)\n",
            "\u001b[2K     \u001b[90m━━━━━━━━━━━━━━━━━━━━━━━━━━━━━━━━━━━━━━━━\u001b[0m \u001b[32m29.4/29.4 MB\u001b[0m \u001b[31m35.8 MB/s\u001b[0m eta \u001b[36m0:00:00\u001b[0m\n",
            "\u001b[?25hRequirement already satisfied: scikit-learn>=0.20.0 in /usr/local/lib/python3.10/dist-packages (from dglgo) (1.2.2)\n",
            "Collecting pycodestyle>=2.10.0 (from autopep8>=1.6.0->dglgo)\n",
            "  Downloading pycodestyle-2.10.0-py2.py3-none-any.whl (41 kB)\n",
            "\u001b[2K     \u001b[90m━━━━━━━━━━━━━━━━━━━━━━━━━━━━━━━━━━━━━━━━\u001b[0m \u001b[32m41.3/41.3 kB\u001b[0m \u001b[31m3.8 MB/s\u001b[0m eta \u001b[36m0:00:00\u001b[0m\n",
            "\u001b[?25hRequirement already satisfied: tomli in /usr/local/lib/python3.10/dist-packages (from autopep8>=1.6.0->dglgo) (2.0.1)\n",
            "Collecting sphinx>=4.2 (from numpydoc>=1.1.0->dglgo)\n",
            "  Downloading sphinx-7.0.1-py3-none-any.whl (3.0 MB)\n",
            "\u001b[2K     \u001b[90m━━━━━━━━━━━━━━━━━━━━━━━━━━━━━━━━━━━━━━━━\u001b[0m \u001b[32m3.0/3.0 MB\u001b[0m \u001b[31m37.7 MB/s\u001b[0m eta \u001b[36m0:00:00\u001b[0m\n",
            "\u001b[?25hRequirement already satisfied: Jinja2>=2.10 in /usr/local/lib/python3.10/dist-packages (from numpydoc>=1.1.0->dglgo) (3.1.2)\n",
            "Requirement already satisfied: torch>=1.6.0 in /usr/local/lib/python3.10/dist-packages (from ogb>=1.3.3->dglgo) (2.0.1+cu118)\n",
            "Requirement already satisfied: numpy>=1.16.0 in /usr/local/lib/python3.10/dist-packages (from ogb>=1.3.3->dglgo) (1.22.4)\n",
            "Requirement already satisfied: tqdm>=4.29.0 in /usr/local/lib/python3.10/dist-packages (from ogb>=1.3.3->dglgo) (4.65.0)\n",
            "Requirement already satisfied: pandas>=0.24.0 in /usr/local/lib/python3.10/dist-packages (from ogb>=1.3.3->dglgo) (1.5.3)\n",
            "Requirement already satisfied: six>=1.12.0 in /usr/local/lib/python3.10/dist-packages (from ogb>=1.3.3->dglgo) (1.16.0)\n",
            "Requirement already satisfied: urllib3>=1.24.0 in /usr/local/lib/python3.10/dist-packages (from ogb>=1.3.3->dglgo) (1.26.15)\n",
            "Collecting outdated>=0.2.0 (from ogb>=1.3.3->dglgo)\n",
            "  Downloading outdated-0.2.2-py2.py3-none-any.whl (7.5 kB)\n",
            "Requirement already satisfied: typing-extensions>=4.2.0 in /usr/local/lib/python3.10/dist-packages (from pydantic>=1.9.0->dglgo) (4.5.0)\n",
            "Collecting ruamel.yaml.clib>=0.2.7 (from ruamel.yaml>=0.17.20->dglgo)\n",
            "  Downloading ruamel.yaml.clib-0.2.7-cp310-cp310-manylinux_2_17_x86_64.manylinux2014_x86_64.manylinux_2_24_x86_64.whl (485 kB)\n",
            "\u001b[2K     \u001b[90m━━━━━━━━━━━━━━━━━━━━━━━━━━━━━━━━━━━━━━\u001b[0m \u001b[32m485.6/485.6 kB\u001b[0m \u001b[31m16.7 MB/s\u001b[0m eta \u001b[36m0:00:00\u001b[0m\n",
            "\u001b[?25hRequirement already satisfied: scipy>=1.3.2 in /usr/local/lib/python3.10/dist-packages (from scikit-learn>=0.20.0->dglgo) (1.10.1)\n",
            "Requirement already satisfied: joblib>=1.1.1 in /usr/local/lib/python3.10/dist-packages (from scikit-learn>=0.20.0->dglgo) (1.2.0)\n",
            "Requirement already satisfied: threadpoolctl>=2.0.0 in /usr/local/lib/python3.10/dist-packages (from scikit-learn>=0.20.0->dglgo) (3.1.0)\n",
            "Requirement already satisfied: click<9.0.0,>=7.1.1 in /usr/local/lib/python3.10/dist-packages (from typer>=0.4.0->dglgo) (8.1.3)\n",
            "Requirement already satisfied: Pillow in /usr/local/lib/python3.10/dist-packages (from rdkit-pypi->dglgo) (8.4.0)\n",
            "Requirement already satisfied: MarkupSafe>=2.0 in /usr/local/lib/python3.10/dist-packages (from Jinja2>=2.10->numpydoc>=1.1.0->dglgo) (2.1.2)\n",
            "Requirement already satisfied: setuptools>=44 in /usr/local/lib/python3.10/dist-packages (from outdated>=0.2.0->ogb>=1.3.3->dglgo) (67.7.2)\n",
            "Collecting littleutils (from outdated>=0.2.0->ogb>=1.3.3->dglgo)\n",
            "  Downloading littleutils-0.2.2.tar.gz (6.6 kB)\n",
            "  Preparing metadata (setup.py) ... \u001b[?25l\u001b[?25hdone\n",
            "Requirement already satisfied: requests in /usr/local/lib/python3.10/dist-packages (from outdated>=0.2.0->ogb>=1.3.3->dglgo) (2.27.1)\n",
            "Requirement already satisfied: python-dateutil>=2.8.1 in /usr/local/lib/python3.10/dist-packages (from pandas>=0.24.0->ogb>=1.3.3->dglgo) (2.8.2)\n",
            "Requirement already satisfied: pytz>=2020.1 in /usr/local/lib/python3.10/dist-packages (from pandas>=0.24.0->ogb>=1.3.3->dglgo) (2022.7.1)\n",
            "Requirement already satisfied: sphinxcontrib-applehelp in /usr/local/lib/python3.10/dist-packages (from sphinx>=4.2->numpydoc>=1.1.0->dglgo) (1.0.4)\n",
            "Requirement already satisfied: sphinxcontrib-devhelp in /usr/local/lib/python3.10/dist-packages (from sphinx>=4.2->numpydoc>=1.1.0->dglgo) (1.0.2)\n",
            "Requirement already satisfied: sphinxcontrib-jsmath in /usr/local/lib/python3.10/dist-packages (from sphinx>=4.2->numpydoc>=1.1.0->dglgo) (1.0.1)\n",
            "Requirement already satisfied: sphinxcontrib-htmlhelp>=2.0.0 in /usr/local/lib/python3.10/dist-packages (from sphinx>=4.2->numpydoc>=1.1.0->dglgo) (2.0.1)\n",
            "Requirement already satisfied: sphinxcontrib-serializinghtml>=1.1.5 in /usr/local/lib/python3.10/dist-packages (from sphinx>=4.2->numpydoc>=1.1.0->dglgo) (1.1.5)\n",
            "Requirement already satisfied: sphinxcontrib-qthelp in /usr/local/lib/python3.10/dist-packages (from sphinx>=4.2->numpydoc>=1.1.0->dglgo) (1.0.3)\n",
            "Requirement already satisfied: Pygments>=2.13 in /usr/local/lib/python3.10/dist-packages (from sphinx>=4.2->numpydoc>=1.1.0->dglgo) (2.14.0)\n",
            "Collecting docutils<0.21,>=0.18.1 (from sphinx>=4.2->numpydoc>=1.1.0->dglgo)\n",
            "  Downloading docutils-0.20.1-py3-none-any.whl (572 kB)\n",
            "\u001b[2K     \u001b[90m━━━━━━━━━━━━━━━━━━━━━━━━━━━━━━━━━━━━━━\u001b[0m \u001b[32m572.7/572.7 kB\u001b[0m \u001b[31m31.2 MB/s\u001b[0m eta \u001b[36m0:00:00\u001b[0m\n",
            "\u001b[?25hRequirement already satisfied: snowballstemmer>=2.0 in /usr/local/lib/python3.10/dist-packages (from sphinx>=4.2->numpydoc>=1.1.0->dglgo) (2.2.0)\n",
            "Requirement already satisfied: babel>=2.9 in /usr/local/lib/python3.10/dist-packages (from sphinx>=4.2->numpydoc>=1.1.0->dglgo) (2.12.1)\n",
            "Requirement already satisfied: alabaster<0.8,>=0.7 in /usr/local/lib/python3.10/dist-packages (from sphinx>=4.2->numpydoc>=1.1.0->dglgo) (0.7.13)\n",
            "Requirement already satisfied: imagesize>=1.3 in /usr/local/lib/python3.10/dist-packages (from sphinx>=4.2->numpydoc>=1.1.0->dglgo) (1.4.1)\n",
            "Requirement already satisfied: packaging>=21.0 in /usr/local/lib/python3.10/dist-packages (from sphinx>=4.2->numpydoc>=1.1.0->dglgo) (23.1)\n",
            "Requirement already satisfied: filelock in /usr/local/lib/python3.10/dist-packages (from torch>=1.6.0->ogb>=1.3.3->dglgo) (3.12.0)\n",
            "Requirement already satisfied: sympy in /usr/local/lib/python3.10/dist-packages (from torch>=1.6.0->ogb>=1.3.3->dglgo) (1.11.1)\n",
            "Requirement already satisfied: networkx in /usr/local/lib/python3.10/dist-packages (from torch>=1.6.0->ogb>=1.3.3->dglgo) (3.1)\n",
            "Requirement already satisfied: triton==2.0.0 in /usr/local/lib/python3.10/dist-packages (from torch>=1.6.0->ogb>=1.3.3->dglgo) (2.0.0)\n",
            "Requirement already satisfied: cmake in /usr/local/lib/python3.10/dist-packages (from triton==2.0.0->torch>=1.6.0->ogb>=1.3.3->dglgo) (3.25.2)\n",
            "Requirement already satisfied: lit in /usr/local/lib/python3.10/dist-packages (from triton==2.0.0->torch>=1.6.0->ogb>=1.3.3->dglgo) (16.0.5)\n",
            "Requirement already satisfied: certifi>=2017.4.17 in /usr/local/lib/python3.10/dist-packages (from requests->outdated>=0.2.0->ogb>=1.3.3->dglgo) (2022.12.7)\n",
            "Requirement already satisfied: charset-normalizer~=2.0.0 in /usr/local/lib/python3.10/dist-packages (from requests->outdated>=0.2.0->ogb>=1.3.3->dglgo) (2.0.12)\n",
            "Requirement already satisfied: idna<4,>=2.5 in /usr/local/lib/python3.10/dist-packages (from requests->outdated>=0.2.0->ogb>=1.3.3->dglgo) (3.4)\n",
            "Requirement already satisfied: mpmath>=0.19 in /usr/local/lib/python3.10/dist-packages (from sympy->torch>=1.6.0->ogb>=1.3.3->dglgo) (1.3.0)\n",
            "Building wheels for collected packages: littleutils\n",
            "  Building wheel for littleutils (setup.py) ... \u001b[?25l\u001b[?25hdone\n",
            "  Created wheel for littleutils: filename=littleutils-0.2.2-py3-none-any.whl size=7029 sha256=84b66214998cce2670b4b54717e5ab460eb24d85107b754a5ab7f95c9a42300a\n",
            "  Stored in directory: /root/.cache/pip/wheels/3d/fe/b0/27a9892da57472e538c7452a721a9cf463cc03cf7379889266\n",
            "Successfully built littleutils\n",
            "Installing collected packages: littleutils, ruamel.yaml.clib, rdkit-pypi, pycodestyle, isort, docutils, sphinx, ruamel.yaml, outdated, autopep8, numpydoc, ogb, dglgo\n",
            "  Attempting uninstall: docutils\n",
            "    Found existing installation: docutils 0.16\n",
            "    Uninstalling docutils-0.16:\n",
            "      Successfully uninstalled docutils-0.16\n",
            "  Attempting uninstall: sphinx\n",
            "    Found existing installation: Sphinx 3.5.4\n",
            "    Uninstalling Sphinx-3.5.4:\n",
            "      Successfully uninstalled Sphinx-3.5.4\n",
            "Successfully installed autopep8-2.0.2 dglgo-0.0.2 docutils-0.20.1 isort-5.12.0 littleutils-0.2.2 numpydoc-1.5.0 ogb-1.3.6 outdated-0.2.2 pycodestyle-2.10.0 rdkit-pypi-2022.9.5 ruamel.yaml-0.17.28 ruamel.yaml.clib-0.2.7 sphinx-7.0.1\n"
          ]
        }
      ]
    },
    {
      "cell_type": "code",
      "source": [
        "%matplotlib inline\n",
        "import os\n",
        "\n",
        "os.environ[\"DGLBACKEND\"] = \"pytorch\"\n",
        "import dgl\n",
        "import numpy as np\n",
        "import networkx as nx\n",
        "import torch\n",
        "import torch.nn as nn"
      ],
      "metadata": {
        "id": "p4Ee7U2s59AW"
      },
      "execution_count": 3,
      "outputs": []
    },
    {
      "cell_type": "markdown",
      "source": [
        "**Let's create the following heterograph:**"
      ],
      "metadata": {
        "id": "y_oxtRi28rT-"
      }
    },
    {
      "cell_type": "markdown",
      "source": [
        "![g.png](data:image/png;base64,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)"
      ],
      "metadata": {
        "id": "beg5iWiQ8lqS"
      }
    },
    {
      "cell_type": "code",
      "source": [
        "# Create a heterograph\n",
        "\n",
        "data_dict = {\n",
        "    ('user', 'watches', 'movie'): (torch.tensor([0, 0, 1, 2]),\n",
        "                                   torch.tensor([0, 1, 0, 1])),\n",
        "    ('director', 'directs', 'movie'): (torch.tensor([0, 1]),\n",
        "                                       torch.tensor([1, 0]))\n",
        "}\n",
        "g = dgl.heterograph(data_dict)\n",
        "g"
      ],
      "metadata": {
        "colab": {
          "base_uri": "https://localhost:8080/"
        },
        "id": "PE_tJ4Bv70tr",
        "outputId": "e7933734-a924-49f6-f58c-25aab5b80dcc"
      },
      "execution_count": 4,
      "outputs": [
        {
          "output_type": "execute_result",
          "data": {
            "text/plain": [
              "Graph(num_nodes={'director': 2, 'movie': 2, 'user': 3},\n",
              "      num_edges={('director', 'directs', 'movie'): 2, ('user', 'watches', 'movie'): 4},\n",
              "      metagraph=[('director', 'movie', 'directs'), ('user', 'movie', 'watches')])"
            ]
          },
          "metadata": {},
          "execution_count": 4
        }
      ]
    },
    {
      "cell_type": "code",
      "source": [
        "g.ntypes"
      ],
      "metadata": {
        "colab": {
          "base_uri": "https://localhost:8080/"
        },
        "id": "UnSUx9CN7rTR",
        "outputId": "fbbd04dd-3585-4da8-8573-66fb22868ea3"
      },
      "execution_count": 5,
      "outputs": [
        {
          "output_type": "execute_result",
          "data": {
            "text/plain": [
              "['director', 'movie', 'user']"
            ]
          },
          "metadata": {},
          "execution_count": 5
        }
      ]
    },
    {
      "cell_type": "code",
      "source": [
        "g.etypes"
      ],
      "metadata": {
        "colab": {
          "base_uri": "https://localhost:8080/"
        },
        "id": "_wfNbIPI__ko",
        "outputId": "f54ad27f-055a-4475-9510-d3d189ac388d"
      },
      "execution_count": 6,
      "outputs": [
        {
          "output_type": "execute_result",
          "data": {
            "text/plain": [
              "['directs', 'watches']"
            ]
          },
          "metadata": {},
          "execution_count": 6
        }
      ]
    },
    {
      "cell_type": "markdown",
      "source": [
        "**Querying graph structure**"
      ],
      "metadata": {
        "id": "4qC9GSEU_I2r"
      }
    },
    {
      "cell_type": "code",
      "source": [
        "g.num_nodes()"
      ],
      "metadata": {
        "colab": {
          "base_uri": "https://localhost:8080/"
        },
        "id": "F_pY29pC8EKx",
        "outputId": "44f0c92d-1edf-459c-e70d-046e27d52b42"
      },
      "execution_count": 7,
      "outputs": [
        {
          "output_type": "execute_result",
          "data": {
            "text/plain": [
              "7"
            ]
          },
          "metadata": {},
          "execution_count": 7
        }
      ]
    },
    {
      "cell_type": "code",
      "source": [
        "g.num_nodes('user')"
      ],
      "metadata": {
        "colab": {
          "base_uri": "https://localhost:8080/"
        },
        "id": "WUc-_daD_qT0",
        "outputId": "0da8375e-d5da-45b0-c1fb-3f117d79b18f"
      },
      "execution_count": 8,
      "outputs": [
        {
          "output_type": "execute_result",
          "data": {
            "text/plain": [
              "3"
            ]
          },
          "metadata": {},
          "execution_count": 8
        }
      ]
    },
    {
      "cell_type": "code",
      "source": [
        "g.num_edges()"
      ],
      "metadata": {
        "colab": {
          "base_uri": "https://localhost:8080/"
        },
        "id": "gEqLQ8lJ_x8f",
        "outputId": "8cce9fca-a17b-4f62-87f2-5efa04dde5e9"
      },
      "execution_count": 9,
      "outputs": [
        {
          "output_type": "execute_result",
          "data": {
            "text/plain": [
              "6"
            ]
          },
          "metadata": {},
          "execution_count": 9
        }
      ]
    },
    {
      "cell_type": "code",
      "source": [
        "g.num_edges('directs')"
      ],
      "metadata": {
        "colab": {
          "base_uri": "https://localhost:8080/"
        },
        "id": "aDj4J8Bq_929",
        "outputId": "c7427c08-b1a8-476c-c25b-3010cc6a480e"
      },
      "execution_count": 10,
      "outputs": [
        {
          "output_type": "execute_result",
          "data": {
            "text/plain": [
              "2"
            ]
          },
          "metadata": {},
          "execution_count": 10
        }
      ]
    },
    {
      "cell_type": "code",
      "source": [
        "g.num_edges('watches')"
      ],
      "metadata": {
        "colab": {
          "base_uri": "https://localhost:8080/"
        },
        "id": "7rZiN-KpAKfn",
        "outputId": "e97fc554-441c-4114-8bcc-b6c454973055"
      },
      "execution_count": 11,
      "outputs": [
        {
          "output_type": "execute_result",
          "data": {
            "text/plain": [
              "4"
            ]
          },
          "metadata": {},
          "execution_count": 11
        }
      ]
    },
    {
      "cell_type": "code",
      "source": [
        "g.num_src_nodes()"
      ],
      "metadata": {
        "colab": {
          "base_uri": "https://localhost:8080/"
        },
        "id": "kYM6jRzvAQ_m",
        "outputId": "ba734dc2-7d4f-4dab-e2c9-e6fb4cda8430"
      },
      "execution_count": 12,
      "outputs": [
        {
          "output_type": "execute_result",
          "data": {
            "text/plain": [
              "5"
            ]
          },
          "metadata": {},
          "execution_count": 12
        }
      ]
    },
    {
      "cell_type": "code",
      "source": [
        "g.num_src_nodes('user')"
      ],
      "metadata": {
        "colab": {
          "base_uri": "https://localhost:8080/"
        },
        "id": "CqpTqPKpAWtT",
        "outputId": "ab088fd4-2627-45bc-e745-6caad0ee4710"
      },
      "execution_count": 13,
      "outputs": [
        {
          "output_type": "execute_result",
          "data": {
            "text/plain": [
              "3"
            ]
          },
          "metadata": {},
          "execution_count": 13
        }
      ]
    },
    {
      "cell_type": "code",
      "source": [
        "g.num_src_nodes('director')"
      ],
      "metadata": {
        "colab": {
          "base_uri": "https://localhost:8080/"
        },
        "id": "geQZj_7WAhJ8",
        "outputId": "7bd8e0bc-8f35-4300-b4fd-3de3394205e0"
      },
      "execution_count": 14,
      "outputs": [
        {
          "output_type": "execute_result",
          "data": {
            "text/plain": [
              "2"
            ]
          },
          "metadata": {},
          "execution_count": 14
        }
      ]
    },
    {
      "cell_type": "code",
      "source": [
        "g.num_dst_nodes()"
      ],
      "metadata": {
        "colab": {
          "base_uri": "https://localhost:8080/"
        },
        "id": "p2N8rlHmAkmI",
        "outputId": "b1f9cff9-b78b-494b-d720-90b665e42d7e"
      },
      "execution_count": 15,
      "outputs": [
        {
          "output_type": "execute_result",
          "data": {
            "text/plain": [
              "2"
            ]
          },
          "metadata": {},
          "execution_count": 15
        }
      ]
    },
    {
      "cell_type": "code",
      "source": [
        "g.num_dst_nodes('movie')"
      ],
      "metadata": {
        "colab": {
          "base_uri": "https://localhost:8080/"
        },
        "id": "Zuj_y0AXA-jy",
        "outputId": "c1cdd194-452c-429d-d769-eb51bd94f0fa"
      },
      "execution_count": 16,
      "outputs": [
        {
          "output_type": "execute_result",
          "data": {
            "text/plain": [
              "2"
            ]
          },
          "metadata": {},
          "execution_count": 16
        }
      ]
    },
    {
      "cell_type": "markdown",
      "source": [
        "Makes senese! Cause the only type in graph which containing nodes are destination is 'movie'."
      ],
      "metadata": {
        "id": "1k6NIkXJBWC4"
      }
    },
    {
      "cell_type": "code",
      "source": [
        "g.is_unibipartite"
      ],
      "metadata": {
        "colab": {
          "base_uri": "https://localhost:8080/"
        },
        "id": "QWZXGnVtBE8C",
        "outputId": "27edf58d-3920-4267-a93d-4dd35fa46466"
      },
      "execution_count": 17,
      "outputs": [
        {
          "output_type": "execute_result",
          "data": {
            "text/plain": [
              "True"
            ]
          },
          "metadata": {},
          "execution_count": 17
        }
      ]
    },
    {
      "cell_type": "code",
      "source": [
        "g.is_multigraph"
      ],
      "metadata": {
        "colab": {
          "base_uri": "https://localhost:8080/"
        },
        "id": "3EHQRSn6BOwK",
        "outputId": "fa4d9e9e-20d7-4cc7-978f-bb064c94f99e"
      },
      "execution_count": 18,
      "outputs": [
        {
          "output_type": "execute_result",
          "data": {
            "text/plain": [
              "False"
            ]
          },
          "metadata": {},
          "execution_count": 18
        }
      ]
    },
    {
      "cell_type": "code",
      "source": [
        "g.is_homogeneous"
      ],
      "metadata": {
        "colab": {
          "base_uri": "https://localhost:8080/"
        },
        "id": "8EIi2UcXBTzz",
        "outputId": "61352eba-d748-4229-965e-05c826ffe780"
      },
      "execution_count": 19,
      "outputs": [
        {
          "output_type": "execute_result",
          "data": {
            "text/plain": [
              "False"
            ]
          },
          "metadata": {},
          "execution_count": 19
        }
      ]
    },
    {
      "cell_type": "code",
      "source": [
        "g.has_nodes(0, 'user')"
      ],
      "metadata": {
        "colab": {
          "base_uri": "https://localhost:8080/"
        },
        "id": "n0jTIFYQB2kN",
        "outputId": "af2e854b-8b2d-47b5-a086-1eb833078df4"
      },
      "execution_count": 20,
      "outputs": [
        {
          "output_type": "execute_result",
          "data": {
            "text/plain": [
              "True"
            ]
          },
          "metadata": {},
          "execution_count": 20
        }
      ]
    },
    {
      "cell_type": "code",
      "source": [
        "g.has_nodes(3, 'user')"
      ],
      "metadata": {
        "colab": {
          "base_uri": "https://localhost:8080/"
        },
        "id": "sVTN4DWMCGJu",
        "outputId": "249bd42b-47ab-4ede-c2cd-8313b849b33f"
      },
      "execution_count": 21,
      "outputs": [
        {
          "output_type": "execute_result",
          "data": {
            "text/plain": [
              "False"
            ]
          },
          "metadata": {},
          "execution_count": 21
        }
      ]
    },
    {
      "cell_type": "code",
      "source": [
        "g.has_nodes([1, 2, 3], 'user')"
      ],
      "metadata": {
        "colab": {
          "base_uri": "https://localhost:8080/"
        },
        "id": "y-a52SOmCQA3",
        "outputId": "1a3377fa-7c10-4ced-b12f-dc84d7c1ea13"
      },
      "execution_count": 22,
      "outputs": [
        {
          "output_type": "execute_result",
          "data": {
            "text/plain": [
              "tensor([ True,  True, False])"
            ]
          },
          "metadata": {},
          "execution_count": 22
        }
      ]
    },
    {
      "cell_type": "code",
      "source": [
        "g.has_edges_between(0, 1, 'directs')"
      ],
      "metadata": {
        "colab": {
          "base_uri": "https://localhost:8080/"
        },
        "id": "cX_dSgFvCR8o",
        "outputId": "8167510f-4e48-4de5-8464-2c930e3bc668"
      },
      "execution_count": 23,
      "outputs": [
        {
          "output_type": "execute_result",
          "data": {
            "text/plain": [
              "True"
            ]
          },
          "metadata": {},
          "execution_count": 23
        }
      ]
    },
    {
      "cell_type": "code",
      "source": [
        "g.has_edges_between(1, 1, 'watches')"
      ],
      "metadata": {
        "colab": {
          "base_uri": "https://localhost:8080/"
        },
        "id": "jNO8i3UkDKqI",
        "outputId": "74cbf47a-bab1-4c84-8863-458acaa7dc39"
      },
      "execution_count": 24,
      "outputs": [
        {
          "output_type": "execute_result",
          "data": {
            "text/plain": [
              "False"
            ]
          },
          "metadata": {},
          "execution_count": 24
        }
      ]
    },
    {
      "cell_type": "code",
      "source": [
        "g.predecessors(0, 'watches')"
      ],
      "metadata": {
        "colab": {
          "base_uri": "https://localhost:8080/"
        },
        "id": "M4PI8PixDQwD",
        "outputId": "a1d5dee7-b9c1-4413-b851-390413fc94c7"
      },
      "execution_count": 25,
      "outputs": [
        {
          "output_type": "execute_result",
          "data": {
            "text/plain": [
              "tensor([0, 1])"
            ]
          },
          "metadata": {},
          "execution_count": 25
        }
      ]
    },
    {
      "cell_type": "code",
      "source": [
        "g.predecessors(1, 'watches')"
      ],
      "metadata": {
        "colab": {
          "base_uri": "https://localhost:8080/"
        },
        "id": "DRR3kesoDhIW",
        "outputId": "6b91928c-d367-4d1f-c63d-9513258f7b9d"
      },
      "execution_count": 26,
      "outputs": [
        {
          "output_type": "execute_result",
          "data": {
            "text/plain": [
              "tensor([0, 2])"
            ]
          },
          "metadata": {},
          "execution_count": 26
        }
      ]
    },
    {
      "cell_type": "code",
      "source": [
        "g.predecessors(1, 'directs')"
      ],
      "metadata": {
        "colab": {
          "base_uri": "https://localhost:8080/"
        },
        "id": "nkgN7hDuDnKf",
        "outputId": "29d85134-675e-4401-9886-6f3d1f978de7"
      },
      "execution_count": 27,
      "outputs": [
        {
          "output_type": "execute_result",
          "data": {
            "text/plain": [
              "tensor([0])"
            ]
          },
          "metadata": {},
          "execution_count": 27
        }
      ]
    },
    {
      "cell_type": "code",
      "source": [
        "g.successors(0, 'watches')"
      ],
      "metadata": {
        "colab": {
          "base_uri": "https://localhost:8080/"
        },
        "id": "J3cjcQHmDyQ0",
        "outputId": "c1f641e7-44b8-43ed-bbd0-bf685601618c"
      },
      "execution_count": 28,
      "outputs": [
        {
          "output_type": "execute_result",
          "data": {
            "text/plain": [
              "tensor([0, 1])"
            ]
          },
          "metadata": {},
          "execution_count": 28
        }
      ]
    },
    {
      "cell_type": "code",
      "source": [
        "g.successors(2, 'watches')"
      ],
      "metadata": {
        "colab": {
          "base_uri": "https://localhost:8080/"
        },
        "id": "PGo7Ict8D6Q2",
        "outputId": "6abc0cb4-4f1d-458c-8ad7-c2640b37d2cc"
      },
      "execution_count": 29,
      "outputs": [
        {
          "output_type": "execute_result",
          "data": {
            "text/plain": [
              "tensor([1])"
            ]
          },
          "metadata": {},
          "execution_count": 29
        }
      ]
    },
    {
      "cell_type": "code",
      "source": [
        "g.successors(1, 'directs')"
      ],
      "metadata": {
        "colab": {
          "base_uri": "https://localhost:8080/"
        },
        "id": "OSOB5zz1EEMr",
        "outputId": "10cb96c8-4d6b-494b-b78d-0f795cf4eb33"
      },
      "execution_count": 30,
      "outputs": [
        {
          "output_type": "execute_result",
          "data": {
            "text/plain": [
              "tensor([0])"
            ]
          },
          "metadata": {},
          "execution_count": 30
        }
      ]
    },
    {
      "cell_type": "code",
      "source": [
        "g.edge_ids(0, 1, etype='watches')"
      ],
      "metadata": {
        "colab": {
          "base_uri": "https://localhost:8080/"
        },
        "id": "kRGcJQHdEIU2",
        "outputId": "0ef4e3c5-d863-45b3-9fa9-ba7fbb8a8644"
      },
      "execution_count": 31,
      "outputs": [
        {
          "output_type": "execute_result",
          "data": {
            "text/plain": [
              "1"
            ]
          },
          "metadata": {},
          "execution_count": 31
        }
      ]
    },
    {
      "cell_type": "code",
      "source": [
        "g.edge_ids([1, 2], [0, 1], etype='watches')"
      ],
      "metadata": {
        "colab": {
          "base_uri": "https://localhost:8080/"
        },
        "id": "IguTCA3QEVH8",
        "outputId": "0e01b7ce-f96e-4a09-fd8d-a675a3b0f726"
      },
      "execution_count": 32,
      "outputs": [
        {
          "output_type": "execute_result",
          "data": {
            "text/plain": [
              "tensor([2, 3])"
            ]
          },
          "metadata": {},
          "execution_count": 32
        }
      ]
    },
    {
      "cell_type": "code",
      "source": [
        "g.find_edges(2, 'watches')"
      ],
      "metadata": {
        "colab": {
          "base_uri": "https://localhost:8080/"
        },
        "id": "ToqPAC4qFdUG",
        "outputId": "49fdfeee-acf3-446e-9555-e65e14141b54"
      },
      "execution_count": 33,
      "outputs": [
        {
          "output_type": "execute_result",
          "data": {
            "text/plain": [
              "(tensor([1]), tensor([0]))"
            ]
          },
          "metadata": {},
          "execution_count": 33
        }
      ]
    },
    {
      "cell_type": "code",
      "source": [
        "g.in_edges(0, etype='watches')"
      ],
      "metadata": {
        "colab": {
          "base_uri": "https://localhost:8080/"
        },
        "id": "1GP-40SCF8C9",
        "outputId": "980da87a-5c86-4099-f923-d041da1deb3b"
      },
      "execution_count": 34,
      "outputs": [
        {
          "output_type": "execute_result",
          "data": {
            "text/plain": [
              "(tensor([0, 1]), tensor([0, 0]))"
            ]
          },
          "metadata": {},
          "execution_count": 34
        }
      ]
    },
    {
      "cell_type": "code",
      "source": [
        "g.in_edges(1, etype='watches')"
      ],
      "metadata": {
        "colab": {
          "base_uri": "https://localhost:8080/"
        },
        "id": "vk0WGeRMGJ6w",
        "outputId": "2df9320d-627f-4f97-8a2b-6f18b8259232"
      },
      "execution_count": 35,
      "outputs": [
        {
          "output_type": "execute_result",
          "data": {
            "text/plain": [
              "(tensor([0, 2]), tensor([1, 1]))"
            ]
          },
          "metadata": {},
          "execution_count": 35
        }
      ]
    },
    {
      "cell_type": "code",
      "source": [
        "g.out_edges(0, etype='watches')"
      ],
      "metadata": {
        "colab": {
          "base_uri": "https://localhost:8080/"
        },
        "id": "95pv5rK9GqeI",
        "outputId": "c0f9f1ef-3cf4-4604-9410-48f9c1de66ed"
      },
      "execution_count": 36,
      "outputs": [
        {
          "output_type": "execute_result",
          "data": {
            "text/plain": [
              "(tensor([0, 0]), tensor([0, 1]))"
            ]
          },
          "metadata": {},
          "execution_count": 36
        }
      ]
    },
    {
      "cell_type": "code",
      "source": [
        "g.out_edges(1, etype='directs')"
      ],
      "metadata": {
        "colab": {
          "base_uri": "https://localhost:8080/"
        },
        "id": "zqybC6lgG9MZ",
        "outputId": "6949a8a7-cadd-4ae2-f9f5-3a10595d5d6b"
      },
      "execution_count": 37,
      "outputs": [
        {
          "output_type": "execute_result",
          "data": {
            "text/plain": [
              "(tensor([1]), tensor([0]))"
            ]
          },
          "metadata": {},
          "execution_count": 37
        }
      ]
    },
    {
      "cell_type": "code",
      "source": [
        "g.in_degrees(0, 'watches')"
      ],
      "metadata": {
        "colab": {
          "base_uri": "https://localhost:8080/"
        },
        "id": "ozg_yvUPHG1Z",
        "outputId": "11876125-3138-4616-85c5-a38aba899778"
      },
      "execution_count": 38,
      "outputs": [
        {
          "output_type": "execute_result",
          "data": {
            "text/plain": [
              "2"
            ]
          },
          "metadata": {},
          "execution_count": 38
        }
      ]
    },
    {
      "cell_type": "code",
      "source": [
        "g.in_degrees(0, 'directs')"
      ],
      "metadata": {
        "colab": {
          "base_uri": "https://localhost:8080/"
        },
        "id": "4qKrOcfpHUWW",
        "outputId": "76ee285c-5a50-417c-abc9-60d2ef84261f"
      },
      "execution_count": 39,
      "outputs": [
        {
          "output_type": "execute_result",
          "data": {
            "text/plain": [
              "1"
            ]
          },
          "metadata": {},
          "execution_count": 39
        }
      ]
    },
    {
      "cell_type": "code",
      "source": [
        "g.in_degrees(1, 'watches')"
      ],
      "metadata": {
        "colab": {
          "base_uri": "https://localhost:8080/"
        },
        "id": "iJ26Dk8_Hc6R",
        "outputId": "a9417089-13cd-4f94-f832-c089e2aecbe5"
      },
      "execution_count": 40,
      "outputs": [
        {
          "output_type": "execute_result",
          "data": {
            "text/plain": [
              "2"
            ]
          },
          "metadata": {},
          "execution_count": 40
        }
      ]
    },
    {
      "cell_type": "code",
      "source": [
        "g.out_degrees(0, 'watches')"
      ],
      "metadata": {
        "colab": {
          "base_uri": "https://localhost:8080/"
        },
        "id": "K8OXwZbYHp6b",
        "outputId": "6535900c-2426-422f-b6a8-da896900eadf"
      },
      "execution_count": 41,
      "outputs": [
        {
          "output_type": "execute_result",
          "data": {
            "text/plain": [
              "2"
            ]
          },
          "metadata": {},
          "execution_count": 41
        }
      ]
    },
    {
      "cell_type": "code",
      "source": [
        "g.out_degrees(1, 'directs')"
      ],
      "metadata": {
        "colab": {
          "base_uri": "https://localhost:8080/"
        },
        "id": "hZshQlyRHv3Q",
        "outputId": "93d68d54-2ed9-4a46-b300-2d8bd6b37f12"
      },
      "execution_count": 42,
      "outputs": [
        {
          "output_type": "execute_result",
          "data": {
            "text/plain": [
              "1"
            ]
          },
          "metadata": {},
          "execution_count": 42
        }
      ]
    },
    {
      "cell_type": "markdown",
      "source": [
        "**Querying and manipulating node/edge ID type**"
      ],
      "metadata": {
        "id": "ItGE1wPaH3FX"
      }
    },
    {
      "cell_type": "code",
      "source": [
        "g.idtype"
      ],
      "metadata": {
        "colab": {
          "base_uri": "https://localhost:8080/"
        },
        "id": "57NL-Z7iH1Sf",
        "outputId": "d99d2a31-7553-4a40-cb09-43ecb29ef43f"
      },
      "execution_count": 43,
      "outputs": [
        {
          "output_type": "execute_result",
          "data": {
            "text/plain": [
              "torch.int64"
            ]
          },
          "metadata": {},
          "execution_count": 43
        }
      ]
    },
    {
      "cell_type": "code",
      "source": [
        "g.long()"
      ],
      "metadata": {
        "colab": {
          "base_uri": "https://localhost:8080/"
        },
        "id": "hKW1SHeBIBpb",
        "outputId": "a9e39c53-0e47-4af8-f4c6-083cf28b3b99"
      },
      "execution_count": 44,
      "outputs": [
        {
          "output_type": "execute_result",
          "data": {
            "text/plain": [
              "Graph(num_nodes={'director': 2, 'movie': 2, 'user': 3},\n",
              "      num_edges={('director', 'directs', 'movie'): 2, ('user', 'watches', 'movie'): 4},\n",
              "      metagraph=[('director', 'movie', 'directs'), ('user', 'movie', 'watches')])"
            ]
          },
          "metadata": {},
          "execution_count": 44
        }
      ]
    },
    {
      "cell_type": "code",
      "source": [
        "g.int()"
      ],
      "metadata": {
        "colab": {
          "base_uri": "https://localhost:8080/"
        },
        "id": "bFtFpebMIF9W",
        "outputId": "1b589652-781b-4fa2-f6d5-ff9556062242"
      },
      "execution_count": 45,
      "outputs": [
        {
          "output_type": "execute_result",
          "data": {
            "text/plain": [
              "Graph(num_nodes={'director': 2, 'movie': 2, 'user': 3},\n",
              "      num_edges={('director', 'directs', 'movie'): 2, ('user', 'watches', 'movie'): 4},\n",
              "      metagraph=[('director', 'movie', 'directs'), ('user', 'movie', 'watches')])"
            ]
          },
          "metadata": {},
          "execution_count": 45
        }
      ]
    },
    {
      "cell_type": "markdown",
      "source": [
        "**Using Node/edge features**"
      ],
      "metadata": {
        "id": "E9UpqMsFIdHf"
      }
    },
    {
      "cell_type": "code",
      "source": [
        "g.nodes('director')"
      ],
      "metadata": {
        "colab": {
          "base_uri": "https://localhost:8080/"
        },
        "id": "FGDmYWNiIJUV",
        "outputId": "480ef4b7-f905-4995-a62f-415da5cc98f8"
      },
      "execution_count": 46,
      "outputs": [
        {
          "output_type": "execute_result",
          "data": {
            "text/plain": [
              "tensor([0, 1])"
            ]
          },
          "metadata": {},
          "execution_count": 46
        }
      ]
    },
    {
      "cell_type": "code",
      "source": [
        "g.nodes('movie')"
      ],
      "metadata": {
        "colab": {
          "base_uri": "https://localhost:8080/"
        },
        "id": "T0F2G-MjIiOY",
        "outputId": "34874d98-1f5d-4a93-e3c7-bbfde71e4e62"
      },
      "execution_count": 47,
      "outputs": [
        {
          "output_type": "execute_result",
          "data": {
            "text/plain": [
              "tensor([0, 1])"
            ]
          },
          "metadata": {},
          "execution_count": 47
        }
      ]
    },
    {
      "cell_type": "code",
      "source": [
        "g.nodes('user')"
      ],
      "metadata": {
        "colab": {
          "base_uri": "https://localhost:8080/"
        },
        "id": "QwsJFiRdJHdO",
        "outputId": "4813ac67-d4db-4522-86b2-fed4cc4b7066"
      },
      "execution_count": 48,
      "outputs": [
        {
          "output_type": "execute_result",
          "data": {
            "text/plain": [
              "tensor([0, 1, 2])"
            ]
          },
          "metadata": {},
          "execution_count": 48
        }
      ]
    },
    {
      "cell_type": "code",
      "source": [
        "g.ndata"
      ],
      "metadata": {
        "colab": {
          "base_uri": "https://localhost:8080/"
        },
        "id": "OgEgaQVqJKHg",
        "outputId": "996410a3-c526-4ecf-f2f4-7e2d5aa062f3"
      },
      "execution_count": 49,
      "outputs": [
        {
          "output_type": "execute_result",
          "data": {
            "text/plain": [
              "defaultdict(<class 'dict'>, {})"
            ]
          },
          "metadata": {},
          "execution_count": 49
        }
      ]
    },
    {
      "cell_type": "code",
      "source": [
        "g.ndata['nfeature_1'] = {'director': torch.randn(2, 3), 'movie': torch.randn(2, 2), 'user': torch.ones(3, 4)}"
      ],
      "metadata": {
        "id": "IK06hDzWJNRj"
      },
      "execution_count": 50,
      "outputs": []
    },
    {
      "cell_type": "code",
      "source": [
        "g.ndata['nfeature_1']"
      ],
      "metadata": {
        "colab": {
          "base_uri": "https://localhost:8080/"
        },
        "id": "fhaxLbghKRMy",
        "outputId": "53ae8e05-40fb-4032-cb91-bb07f23c98ee"
      },
      "execution_count": 51,
      "outputs": [
        {
          "output_type": "execute_result",
          "data": {
            "text/plain": [
              "{'director': tensor([[ 0.2049, -0.0089, -0.2208],\n",
              "         [-0.4123, -1.2733, -0.0142]]),\n",
              " 'movie': tensor([[-1.0324, -0.3305],\n",
              "         [-1.2610, -0.4404]]),\n",
              " 'user': tensor([[1., 1., 1., 1.],\n",
              "         [1., 1., 1., 1.],\n",
              "         [1., 1., 1., 1.]])}"
            ]
          },
          "metadata": {},
          "execution_count": 51
        }
      ]
    },
    {
      "cell_type": "code",
      "source": [
        "g.ndata['nfeature_1']['movie']"
      ],
      "metadata": {
        "colab": {
          "base_uri": "https://localhost:8080/"
        },
        "id": "x1OYNgHJKtFn",
        "outputId": "b5eba20b-3083-4215-9d7b-2e3933cc4a55"
      },
      "execution_count": 52,
      "outputs": [
        {
          "output_type": "execute_result",
          "data": {
            "text/plain": [
              "tensor([[-1.0324, -0.3305],\n",
              "        [-1.2610, -0.4404]])"
            ]
          },
          "metadata": {},
          "execution_count": 52
        }
      ]
    },
    {
      "cell_type": "code",
      "source": [
        "g.ndata['nfeature_1']['user']"
      ],
      "metadata": {
        "colab": {
          "base_uri": "https://localhost:8080/"
        },
        "id": "fVvnLPxyK_b6",
        "outputId": "1ee5b05e-9c9f-481f-87f1-3b13fe9b802a"
      },
      "execution_count": 53,
      "outputs": [
        {
          "output_type": "execute_result",
          "data": {
            "text/plain": [
              "tensor([[1., 1., 1., 1.],\n",
              "        [1., 1., 1., 1.],\n",
              "        [1., 1., 1., 1.]])"
            ]
          },
          "metadata": {},
          "execution_count": 53
        }
      ]
    },
    {
      "cell_type": "code",
      "source": [
        "g.edges(etype='watches')"
      ],
      "metadata": {
        "colab": {
          "base_uri": "https://localhost:8080/"
        },
        "id": "ffPRH4EBLZZi",
        "outputId": "9b1faf0c-4335-4dbe-c002-b58a4a1bb2e1"
      },
      "execution_count": 54,
      "outputs": [
        {
          "output_type": "execute_result",
          "data": {
            "text/plain": [
              "(tensor([0, 0, 1, 2]), tensor([0, 1, 0, 1]))"
            ]
          },
          "metadata": {},
          "execution_count": 54
        }
      ]
    },
    {
      "cell_type": "code",
      "source": [
        "g.edges(etype='directs')"
      ],
      "metadata": {
        "colab": {
          "base_uri": "https://localhost:8080/"
        },
        "id": "4KtndsCnNGaV",
        "outputId": "8af9cd45-1a99-48b3-f191-3922e1e1fa31"
      },
      "execution_count": 55,
      "outputs": [
        {
          "output_type": "execute_result",
          "data": {
            "text/plain": [
              "(tensor([0, 1]), tensor([1, 0]))"
            ]
          },
          "metadata": {},
          "execution_count": 55
        }
      ]
    },
    {
      "cell_type": "code",
      "source": [
        "g.edata"
      ],
      "metadata": {
        "colab": {
          "base_uri": "https://localhost:8080/"
        },
        "id": "hwma3NRaLe1c",
        "outputId": "e13815fa-82d4-414e-e4e1-41c83ca263a5"
      },
      "execution_count": 56,
      "outputs": [
        {
          "output_type": "execute_result",
          "data": {
            "text/plain": [
              "defaultdict(<class 'dict'>, {})"
            ]
          },
          "metadata": {},
          "execution_count": 56
        }
      ]
    },
    {
      "cell_type": "code",
      "source": [
        "g.edata['efeature_1'] = {'watches': torch.randn(4, 2), 'directs': torch.zeros(2, 1)}"
      ],
      "metadata": {
        "id": "djQjfMBHL-UJ"
      },
      "execution_count": 57,
      "outputs": []
    },
    {
      "cell_type": "code",
      "source": [
        "g.edata['efeature_1']"
      ],
      "metadata": {
        "colab": {
          "base_uri": "https://localhost:8080/"
        },
        "id": "uhXPtaHjMkeY",
        "outputId": "81ef35bf-fa23-4332-ea3e-42db97953574"
      },
      "execution_count": 58,
      "outputs": [
        {
          "output_type": "execute_result",
          "data": {
            "text/plain": [
              "{('director',\n",
              "  'directs',\n",
              "  'movie'): tensor([[0.],\n",
              "         [0.]]),\n",
              " ('user',\n",
              "  'watches',\n",
              "  'movie'): tensor([[-1.0950,  0.7338],\n",
              "         [ 1.0889, -0.3820],\n",
              "         [ 0.9242, -0.0361],\n",
              "         [-1.2228,  0.7295]])}"
            ]
          },
          "metadata": {},
          "execution_count": 58
        }
      ]
    },
    {
      "cell_type": "code",
      "source": [
        "g.edata['efeature_1'][('director', 'directs', 'movie')]"
      ],
      "metadata": {
        "colab": {
          "base_uri": "https://localhost:8080/"
        },
        "id": "HkibD6vtMmLm",
        "outputId": "777ec917-653c-4aea-a6ef-5f026e9a9049"
      },
      "execution_count": 59,
      "outputs": [
        {
          "output_type": "execute_result",
          "data": {
            "text/plain": [
              "tensor([[0.],\n",
              "        [0.]])"
            ]
          },
          "metadata": {},
          "execution_count": 59
        }
      ]
    },
    {
      "cell_type": "code",
      "source": [
        "g.edges['directs'].data['efeature_2'] = torch.ones(2, 2) # set feature 'efeature_2' for edges of type 'directs'\n",
        "g.edata['efeature_2'] # get feature 'efeature_2'"
      ],
      "metadata": {
        "colab": {
          "base_uri": "https://localhost:8080/"
        },
        "id": "3-CVQMmv-bJz",
        "outputId": "9d577adb-855e-4123-8d00-91da71cd44bc"
      },
      "execution_count": 60,
      "outputs": [
        {
          "output_type": "execute_result",
          "data": {
            "text/plain": [
              "{('director',\n",
              "  'directs',\n",
              "  'movie'): tensor([[1., 1.],\n",
              "         [1., 1.]])}"
            ]
          },
          "metadata": {},
          "execution_count": 60
        }
      ]
    },
    {
      "cell_type": "code",
      "source": [
        "g.node_attr_schemes('user')"
      ],
      "metadata": {
        "colab": {
          "base_uri": "https://localhost:8080/"
        },
        "id": "SplJdzV2NYWJ",
        "outputId": "5889fe9b-fa88-46c0-ca04-56a17c9d1fe2"
      },
      "execution_count": 61,
      "outputs": [
        {
          "output_type": "execute_result",
          "data": {
            "text/plain": [
              "{'nfeature_1': Scheme(shape=(4,), dtype=torch.float32)}"
            ]
          },
          "metadata": {},
          "execution_count": 61
        }
      ]
    },
    {
      "cell_type": "code",
      "source": [
        "g.node_attr_schemes('movie')"
      ],
      "metadata": {
        "colab": {
          "base_uri": "https://localhost:8080/"
        },
        "id": "C63wb_-fOBY4",
        "outputId": "0bcf008d-b3ef-4a04-d30c-ac0bc443de27"
      },
      "execution_count": 62,
      "outputs": [
        {
          "output_type": "execute_result",
          "data": {
            "text/plain": [
              "{'nfeature_1': Scheme(shape=(2,), dtype=torch.float32)}"
            ]
          },
          "metadata": {},
          "execution_count": 62
        }
      ]
    },
    {
      "cell_type": "code",
      "source": [
        "g.node_attr_schemes('director')"
      ],
      "metadata": {
        "colab": {
          "base_uri": "https://localhost:8080/"
        },
        "id": "PjwTa7shOEzh",
        "outputId": "e575d1c9-270e-442d-8e8f-44fcc8af8920"
      },
      "execution_count": 63,
      "outputs": [
        {
          "output_type": "execute_result",
          "data": {
            "text/plain": [
              "{'nfeature_1': Scheme(shape=(3,), dtype=torch.float32)}"
            ]
          },
          "metadata": {},
          "execution_count": 63
        }
      ]
    },
    {
      "cell_type": "code",
      "source": [
        "g.edge_attr_schemes('watches')"
      ],
      "metadata": {
        "colab": {
          "base_uri": "https://localhost:8080/"
        },
        "id": "vVEYddBcOHEl",
        "outputId": "9e329b76-3c84-47da-9798-bd872d68dd62"
      },
      "execution_count": 64,
      "outputs": [
        {
          "output_type": "execute_result",
          "data": {
            "text/plain": [
              "{'efeature_1': Scheme(shape=(2,), dtype=torch.float32)}"
            ]
          },
          "metadata": {},
          "execution_count": 64
        }
      ]
    },
    {
      "cell_type": "code",
      "source": [
        "g.edge_attr_schemes('directs')"
      ],
      "metadata": {
        "colab": {
          "base_uri": "https://localhost:8080/"
        },
        "id": "wPKWWrxMOPRT",
        "outputId": "85c41ef1-a18b-4843-8a25-5620af953c26"
      },
      "execution_count": 65,
      "outputs": [
        {
          "output_type": "execute_result",
          "data": {
            "text/plain": [
              "{'efeature_1': Scheme(shape=(1,), dtype=torch.float32),\n",
              " 'efeature_2': Scheme(shape=(2,), dtype=torch.float32)}"
            ]
          },
          "metadata": {},
          "execution_count": 65
        }
      ]
    },
    {
      "cell_type": "code",
      "source": [
        "g.srcnodes('user')"
      ],
      "metadata": {
        "colab": {
          "base_uri": "https://localhost:8080/"
        },
        "id": "X21CcotDOSSM",
        "outputId": "79221501-5657-47f8-f1c8-ae94a429e00d"
      },
      "execution_count": 66,
      "outputs": [
        {
          "output_type": "execute_result",
          "data": {
            "text/plain": [
              "tensor([0, 1, 2])"
            ]
          },
          "metadata": {},
          "execution_count": 66
        }
      ]
    },
    {
      "cell_type": "code",
      "source": [
        "g.dstnodes('movie')"
      ],
      "metadata": {
        "colab": {
          "base_uri": "https://localhost:8080/"
        },
        "id": "2SuJlNQROX-I",
        "outputId": "49b8972d-9b2d-4cd0-8247-8b1f7fa3aead"
      },
      "execution_count": 67,
      "outputs": [
        {
          "output_type": "execute_result",
          "data": {
            "text/plain": [
              "tensor([0, 1])"
            ]
          },
          "metadata": {},
          "execution_count": 67
        }
      ]
    },
    {
      "cell_type": "code",
      "source": [
        "dict(g.srcdata)"
      ],
      "metadata": {
        "colab": {
          "base_uri": "https://localhost:8080/"
        },
        "id": "-dVzfXOtOh6N",
        "outputId": "678bebca-d953-4d4d-e2d6-60a234a465fe"
      },
      "execution_count": 68,
      "outputs": [
        {
          "output_type": "execute_result",
          "data": {
            "text/plain": [
              "{'nfeature_1': {'director': tensor([[ 0.2049, -0.0089, -0.2208],\n",
              "          [-0.4123, -1.2733, -0.0142]]),\n",
              "  'user': tensor([[1., 1., 1., 1.],\n",
              "          [1., 1., 1., 1.],\n",
              "          [1., 1., 1., 1.]])}}"
            ]
          },
          "metadata": {},
          "execution_count": 68
        }
      ]
    },
    {
      "cell_type": "code",
      "source": [
        "dict(g.dstdata)"
      ],
      "metadata": {
        "colab": {
          "base_uri": "https://localhost:8080/"
        },
        "id": "An8AcDXMOnWm",
        "outputId": "60904d8d-0de1-4bad-c377-50283caba6d2"
      },
      "execution_count": 69,
      "outputs": [
        {
          "output_type": "execute_result",
          "data": {
            "text/plain": [
              "{'nfeature_1': tensor([[-1.0324, -0.3305],\n",
              "         [-1.2610, -0.4404]])}"
            ]
          },
          "metadata": {},
          "execution_count": 69
        }
      ]
    },
    {
      "cell_type": "markdown",
      "source": [
        "**Subgraph Extraction Ops and Transforming graph**"
      ],
      "metadata": {
        "id": "LrmgSnk56mR2"
      }
    },
    {
      "cell_type": "code",
      "source": [
        "h = dgl.graph((torch.tensor([2, 3, 3, 4, 2, 3]), torch.tensor([1, 2, 0, 3, 2, 1])))\n",
        "h "
      ],
      "metadata": {
        "id": "gp-YZBgUO1KL",
        "colab": {
          "base_uri": "https://localhost:8080/"
        },
        "outputId": "db01cb3f-83eb-40d0-c878-d250d139a241"
      },
      "execution_count": 70,
      "outputs": [
        {
          "output_type": "execute_result",
          "data": {
            "text/plain": [
              "Graph(num_nodes=5, num_edges=6,\n",
              "      ndata_schemes={}\n",
              "      edata_schemes={})"
            ]
          },
          "metadata": {},
          "execution_count": 70
        }
      ]
    },
    {
      "cell_type": "code",
      "source": [
        "nx.draw_networkx(h.to_networkx(), with_labels = True)"
      ],
      "metadata": {
        "colab": {
          "base_uri": "https://localhost:8080/",
          "height": 406
        },
        "id": "x2BG4IM8712Q",
        "outputId": "5736897e-4064-4f4a-9c0e-cc8941e61ff9"
      },
      "execution_count": 71,
      "outputs": [
        {
          "output_type": "display_data",
          "data": {
            "text/plain": [
              "<Figure size 640x480 with 1 Axes>"
            ],
            "image/png": "[encoded data removed]"
          },
          "metadata": {}
        }
      ]
    },
    {
      "cell_type": "code",
      "source": [
        "sub_h_1 = dgl.node_subgraph(h, [0, 3, 2])\n",
        "# or:\n",
        "# sub_h_1 = h.subgraph([0, 3, 2])\n",
        "sub_h_1"
      ],
      "metadata": {
        "colab": {
          "base_uri": "https://localhost:8080/"
        },
        "id": "Y_JtukvQBRco",
        "outputId": "9980a63b-47e5-4a4c-caf2-3935f7efbe24"
      },
      "execution_count": 72,
      "outputs": [
        {
          "output_type": "execute_result",
          "data": {
            "text/plain": [
              "Graph(num_nodes=3, num_edges=3,\n",
              "      ndata_schemes={'_ID': Scheme(shape=(), dtype=torch.int64)}\n",
              "      edata_schemes={'_ID': Scheme(shape=(), dtype=torch.int64)})"
            ]
          },
          "metadata": {},
          "execution_count": 72
        }
      ]
    },
    {
      "cell_type": "code",
      "source": [
        "nx.draw_networkx(sub_h_1.to_networkx())"
      ],
      "metadata": {
        "colab": {
          "base_uri": "https://localhost:8080/",
          "height": 406
        },
        "id": "A3Zpmf7dCMXF",
        "outputId": "3e7d5d96-fa37-49f6-d22f-0e8de1fdc055"
      },
      "execution_count": 73,
      "outputs": [
        {
          "output_type": "display_data",
          "data": {
            "text/plain": [
              "<Figure size 640x480 with 1 Axes>"
            ],
            "image/png": "[encoded data removed]"
          },
          "metadata": {}
        }
      ]
    },
    {
      "cell_type": "code",
      "source": [
        "sub_h_2 = dgl.edge_subgraph(h, [1, 5, 4])\n",
        "# or:\n",
        "# sub_h_2.edge_subgraph([1, 5, 4])"
      ],
      "metadata": {
        "id": "6idDNVhCCX_I"
      },
      "execution_count": 74,
      "outputs": []
    },
    {
      "cell_type": "code",
      "source": [
        "nx.draw_networkx(sub_h_2.to_networkx())"
      ],
      "metadata": {
        "colab": {
          "base_uri": "https://localhost:8080/",
          "height": 406
        },
        "id": "3aMuCIDZEMkY",
        "outputId": "5a8e42a6-f9bc-47b0-8fab-b1ec54d21f25"
      },
      "execution_count": 75,
      "outputs": [
        {
          "output_type": "display_data",
          "data": {
            "text/plain": [
              "<Figure size 640x480 with 1 Axes>"
            ],
            "image/png": "[encoded data removed]"
          },
          "metadata": {}
        }
      ]
    },
    {
      "cell_type": "code",
      "source": [
        "from dgl.subgraph import node_type_subgraph, edge_type_subgraph\n",
        "sub_g_1 = node_type_subgraph(g, ['user'])"
      ],
      "metadata": {
        "colab": {
          "base_uri": "https://localhost:8080/",
          "height": 307
        },
        "id": "1JVjutydGUY7",
        "outputId": "250f50ca-f1d0-4ce3-f09a-db4cd66ec325"
      },
      "execution_count": 78,
      "outputs": [
        {
          "output_type": "error",
          "ename": "DGLError",
          "evalue": "ignored",
          "traceback": [
            "\u001b[0;31m---------------------------------------------------------------------------\u001b[0m",
            "\u001b[0;31mDGLError\u001b[0m                                  Traceback (most recent call last)",
            "\u001b[0;32m<ipython-input-78-041b89d70600>\u001b[0m in \u001b[0;36m<cell line: 2>\u001b[0;34m()\u001b[0m\n\u001b[1;32m      1\u001b[0m \u001b[0;32mfrom\u001b[0m \u001b[0mdgl\u001b[0m\u001b[0;34m.\u001b[0m\u001b[0msubgraph\u001b[0m \u001b[0;32mimport\u001b[0m \u001b[0mnode_type_subgraph\u001b[0m\u001b[0;34m,\u001b[0m \u001b[0medge_type_subgraph\u001b[0m\u001b[0;34m\u001b[0m\u001b[0;34m\u001b[0m\u001b[0m\n\u001b[0;32m----> 2\u001b[0;31m \u001b[0msub_g_1\u001b[0m \u001b[0;34m=\u001b[0m \u001b[0mnode_type_subgraph\u001b[0m\u001b[0;34m(\u001b[0m\u001b[0mg\u001b[0m\u001b[0;34m,\u001b[0m \u001b[0;34m[\u001b[0m\u001b[0;34m'user'\u001b[0m\u001b[0;34m]\u001b[0m\u001b[0;34m)\u001b[0m\u001b[0;34m\u001b[0m\u001b[0;34m\u001b[0m\u001b[0m\n\u001b[0m",
            "\u001b[0;32m/usr/local/lib/python3.10/dist-packages/dgl/subgraph.py\u001b[0m in \u001b[0;36mnode_type_subgraph\u001b[0;34m(graph, ntypes, output_device)\u001b[0m\n\u001b[1;32m   1058\u001b[0m             \u001b[0metypes\u001b[0m\u001b[0;34m.\u001b[0m\u001b[0mappend\u001b[0m\u001b[0;34m(\u001b[0m\u001b[0mgraph\u001b[0m\u001b[0;34m.\u001b[0m\u001b[0mcanonical_etypes\u001b[0m\u001b[0;34m[\u001b[0m\u001b[0metid\u001b[0m\u001b[0;34m]\u001b[0m\u001b[0;34m)\u001b[0m\u001b[0;34m\u001b[0m\u001b[0;34m\u001b[0m\u001b[0m\n\u001b[1;32m   1059\u001b[0m     \u001b[0;32mif\u001b[0m \u001b[0mlen\u001b[0m\u001b[0;34m(\u001b[0m\u001b[0metypes\u001b[0m\u001b[0;34m)\u001b[0m \u001b[0;34m==\u001b[0m \u001b[0;36m0\u001b[0m\u001b[0;34m:\u001b[0m\u001b[0;34m\u001b[0m\u001b[0;34m\u001b[0m\u001b[0m\n\u001b[0;32m-> 1060\u001b[0;31m         \u001b[0;32mraise\u001b[0m \u001b[0mDGLError\u001b[0m\u001b[0;34m(\u001b[0m\u001b[0;34m\"There are no edges among nodes of the specified types.\"\u001b[0m\u001b[0;34m)\u001b[0m\u001b[0;34m\u001b[0m\u001b[0;34m\u001b[0m\u001b[0m\n\u001b[0m\u001b[1;32m   1061\u001b[0m     \u001b[0;32mreturn\u001b[0m \u001b[0medge_type_subgraph\u001b[0m\u001b[0;34m(\u001b[0m\u001b[0mgraph\u001b[0m\u001b[0;34m,\u001b[0m \u001b[0metypes\u001b[0m\u001b[0;34m,\u001b[0m \u001b[0moutput_device\u001b[0m\u001b[0;34m=\u001b[0m\u001b[0moutput_device\u001b[0m\u001b[0;34m)\u001b[0m\u001b[0;34m\u001b[0m\u001b[0;34m\u001b[0m\u001b[0m\n\u001b[1;32m   1062\u001b[0m \u001b[0;34m\u001b[0m\u001b[0m\n",
            "\u001b[0;31mDGLError\u001b[0m: There are no edges among nodes of the specified types."
          ]
        }
      ]
    },
    {
      "cell_type": "code",
      "source": [
        "# the same heterograph with an edge between two nodes of 'user' added:\n",
        "\n",
        "data_dict = {\n",
        "    ('user', 'watches', 'movie'): (torch.tensor([0, 0, 1, 2]),\n",
        "                                   torch.tensor([0, 1, 0, 1])),\n",
        "    ('director', 'directs', 'movie'): (torch.tensor([0, 1]),\n",
        "                                       torch.tensor([1, 0])),\n",
        "    ('user', 'intracts', 'user'): (torch.tensor([0, 1]),\n",
        "                                       torch.tensor([1, 0]))\n",
        "}\n",
        "g = dgl.heterograph(data_dict)\n",
        "g"
      ],
      "metadata": {
        "colab": {
          "base_uri": "https://localhost:8080/"
        },
        "id": "ZHYW-NQ1HLzm",
        "outputId": "27ccd23c-2d63-497f-ec64-6b2d3740a24d"
      },
      "execution_count": 79,
      "outputs": [
        {
          "output_type": "execute_result",
          "data": {
            "text/plain": [
              "Graph(num_nodes={'director': 2, 'movie': 2, 'user': 3},\n",
              "      num_edges={('director', 'directs', 'movie'): 2, ('user', 'intracts', 'user'): 2, ('user', 'watches', 'movie'): 4},\n",
              "      metagraph=[('director', 'movie', 'directs'), ('user', 'user', 'intracts'), ('user', 'movie', 'watches')])"
            ]
          },
          "metadata": {},
          "execution_count": 79
        }
      ]
    },
    {
      "cell_type": "code",
      "source": [
        "sub_g_1 = node_type_subgraph(g, ['user'])\n",
        "# or:\n",
        "# sub_g_1 = g.node_type_subgraph('user')"
      ],
      "metadata": {
        "id": "Uu9MwUNlIkH3"
      },
      "execution_count": 80,
      "outputs": []
    },
    {
      "cell_type": "code",
      "source": [
        "nx.draw_networkx(sub_g_1.to_networkx())"
      ],
      "metadata": {
        "colab": {
          "base_uri": "https://localhost:8080/",
          "height": 406
        },
        "id": "uZWiO1kDJeHl",
        "outputId": "35dd5e86-d275-4ccf-acfc-f0d6cf5d3dd2"
      },
      "execution_count": 81,
      "outputs": [
        {
          "output_type": "display_data",
          "data": {
            "text/plain": [
              "<Figure size 640x480 with 1 Axes>"
            ],
            "image/png": "[encoded data removed]"
          },
          "metadata": {}
        }
      ]
    },
    {
      "cell_type": "code",
      "source": [
        "sub_g_2 = edge_type_subgraph(g, ['watches'])"
      ],
      "metadata": {
        "id": "Ay6OmxMMJiWd"
      },
      "execution_count": 82,
      "outputs": []
    },
    {
      "cell_type": "code",
      "source": [
        "sub_g_2"
      ],
      "metadata": {
        "colab": {
          "base_uri": "https://localhost:8080/"
        },
        "id": "DZO171x_KtwT",
        "outputId": "7ced0e35-aa82-48fd-e8aa-280220dd080f"
      },
      "execution_count": 83,
      "outputs": [
        {
          "output_type": "execute_result",
          "data": {
            "text/plain": [
              "Graph(num_nodes={'movie': 2, 'user': 3},\n",
              "      num_edges={('user', 'watches', 'movie'): 4},\n",
              "      metagraph=[('user', 'movie', 'watches')])"
            ]
          },
          "metadata": {},
          "execution_count": 83
        }
      ]
    },
    {
      "cell_type": "code",
      "source": [
        "h_sub_g = dgl.to_homogeneous(sub_g_2)"
      ],
      "metadata": {
        "id": "SucGHPgiK4fl"
      },
      "execution_count": 84,
      "outputs": []
    },
    {
      "cell_type": "code",
      "source": [
        "nx.draw_networkx(h_sub_g.to_networkx())"
      ],
      "metadata": {
        "colab": {
          "base_uri": "https://localhost:8080/",
          "height": 406
        },
        "id": "oV28idviYLPj",
        "outputId": "7ddada87-1fea-485f-cefb-a7fe4ab29405"
      },
      "execution_count": 85,
      "outputs": [
        {
          "output_type": "display_data",
          "data": {
            "text/plain": [
              "<Figure size 640x480 with 1 Axes>"
            ],
            "image/png": "[encoded data removed]"
          },
          "metadata": {}
        }
      ]
    },
    {
      "cell_type": "code",
      "source": [
        "sub_h_3 = dgl.in_subgraph(h, [0, 1, 2])"
      ],
      "metadata": {
        "id": "jJMFtMCZYRXW"
      },
      "execution_count": 86,
      "outputs": []
    },
    {
      "cell_type": "code",
      "source": [
        "nx.draw_networkx(sub_h_3.to_networkx())"
      ],
      "metadata": {
        "colab": {
          "base_uri": "https://localhost:8080/",
          "height": 406
        },
        "id": "d59LQYj3co7-",
        "outputId": "ff8343a8-c57f-4be2-b103-8580115da06b"
      },
      "execution_count": 87,
      "outputs": [
        {
          "output_type": "display_data",
          "data": {
            "text/plain": [
              "<Figure size 640x480 with 1 Axes>"
            ],
            "image/png": "[encoded data removed]"
          },
          "metadata": {}
        }
      ]
    },
    {
      "cell_type": "code",
      "source": [
        "sub_h_4 = dgl.out_subgraph(h, [1, 2])"
      ],
      "metadata": {
        "id": "ZsKUccT5d73n"
      },
      "execution_count": 88,
      "outputs": []
    },
    {
      "cell_type": "code",
      "source": [
        "nx.draw_networkx(sub_h_4.to_networkx())"
      ],
      "metadata": {
        "colab": {
          "base_uri": "https://localhost:8080/",
          "height": 406
        },
        "id": "BFhWCIaQfNTd",
        "outputId": "6b790700-34ee-41cd-8c39-efe0a1a09d77"
      },
      "execution_count": 89,
      "outputs": [
        {
          "output_type": "display_data",
          "data": {
            "text/plain": [
              "<Figure size 640x480 with 1 Axes>"
            ],
            "image/png": "[encoded data removed]"
          },
          "metadata": {}
        }
      ]
    },
    {
      "cell_type": "markdown",
      "source": [
        "Let's draw h one more time:"
      ],
      "metadata": {
        "id": "CBK41r04hB2h"
      }
    },
    {
      "cell_type": "code",
      "source": [
        "nx.draw_networkx(h.to_networkx(), with_labels = True)"
      ],
      "metadata": {
        "colab": {
          "base_uri": "https://localhost:8080/",
          "height": 406
        },
        "id": "icZ9B2qzg7bP",
        "outputId": "bf1e6359-13fc-4572-fe74-3966f6fdae01"
      },
      "execution_count": 90,
      "outputs": [
        {
          "output_type": "display_data",
          "data": {
            "text/plain": [
              "<Figure size 640x480 with 1 Axes>"
            ],
            "image/png": "[encoded data removed]"
          },
          "metadata": {}
        }
      ]
    },
    {
      "cell_type": "code",
      "source": [
        "sub_h_5 = dgl.khop_in_subgraph(h, [2, 3], 2)\n",
        "sub_h_5"
      ],
      "metadata": {
        "colab": {
          "base_uri": "https://localhost:8080/"
        },
        "id": "SORS3mKZfTgV",
        "outputId": "a129bb90-5076-49f4-a01b-3e925d42a1a9"
      },
      "execution_count": 91,
      "outputs": [
        {
          "output_type": "execute_result",
          "data": {
            "text/plain": [
              "(Graph(num_nodes=3, num_edges=3,\n",
              "       ndata_schemes={'_ID': Scheme(shape=(), dtype=torch.int64)}\n",
              "       edata_schemes={'_ID': Scheme(shape=(), dtype=torch.int64)}),\n",
              " tensor([0, 1]))"
            ]
          },
          "metadata": {},
          "execution_count": 91
        }
      ]
    },
    {
      "cell_type": "code",
      "source": [
        "sub_h_6 = dgl.khop_out_subgraph(h, [1, 3], 2)\n",
        "sub_h_6"
      ],
      "metadata": {
        "colab": {
          "base_uri": "https://localhost:8080/"
        },
        "id": "O1rwUwZcgC7Y",
        "outputId": "4251d3e9-99b2-401b-8b85-db2d1b49abd7"
      },
      "execution_count": 92,
      "outputs": [
        {
          "output_type": "execute_result",
          "data": {
            "text/plain": [
              "(Graph(num_nodes=4, num_edges=5,\n",
              "       ndata_schemes={'_ID': Scheme(shape=(), dtype=torch.int64)}\n",
              "       edata_schemes={'_ID': Scheme(shape=(), dtype=torch.int64)}),\n",
              " tensor([1, 3]))"
            ]
          },
          "metadata": {},
          "execution_count": 92
        }
      ]
    },
    {
      "cell_type": "code",
      "source": [
        "g.__getitem__('watches')"
      ],
      "metadata": {
        "colab": {
          "base_uri": "https://localhost:8080/"
        },
        "id": "a0ye2ry4gv75",
        "outputId": "770e93b2-f7d6-4185-9888-ea3dbec48ea9"
      },
      "execution_count": 93,
      "outputs": [
        {
          "output_type": "execute_result",
          "data": {
            "text/plain": [
              "Graph(num_nodes={'user': 3, 'movie': 2},\n",
              "      num_edges={('user', 'watches', 'movie'): 4},\n",
              "      metagraph=[('user', 'movie', 'watches')])"
            ]
          },
          "metadata": {},
          "execution_count": 93
        }
      ]
    },
    {
      "cell_type": "code",
      "source": [
        "g.__getitem__('directs')"
      ],
      "metadata": {
        "colab": {
          "base_uri": "https://localhost:8080/"
        },
        "id": "8xiDTzEgiQkj",
        "outputId": "f4291b4e-bfd2-4f81-d523-717f2b0764fa"
      },
      "execution_count": 94,
      "outputs": [
        {
          "output_type": "execute_result",
          "data": {
            "text/plain": [
              "Graph(num_nodes={'director': 2, 'movie': 2},\n",
              "      num_edges={('director', 'directs', 'movie'): 2},\n",
              "      metagraph=[('director', 'movie', 'directs')])"
            ]
          },
          "metadata": {},
          "execution_count": 94
        }
      ]
    },
    {
      "cell_type": "code",
      "source": [
        "g.__getitem__('intracts')"
      ],
      "metadata": {
        "colab": {
          "base_uri": "https://localhost:8080/"
        },
        "id": "DvgQa2jTiYmD",
        "outputId": "f5f17772-c2c4-4a49-f5ff-3dc5517962dc"
      },
      "execution_count": 95,
      "outputs": [
        {
          "output_type": "execute_result",
          "data": {
            "text/plain": [
              "Graph(num_nodes=3, num_edges=2,\n",
              "      ndata_schemes={}\n",
              "      edata_schemes={})"
            ]
          },
          "metadata": {},
          "execution_count": 95
        }
      ]
    },
    {
      "cell_type": "code",
      "source": [
        "lh = h.line_graph()\n",
        "lh"
      ],
      "metadata": {
        "colab": {
          "base_uri": "https://localhost:8080/"
        },
        "id": "0mB8K64aik41",
        "outputId": "7cea328c-5f24-464e-f3b5-e0912a750d93"
      },
      "execution_count": 96,
      "outputs": [
        {
          "output_type": "execute_result",
          "data": {
            "text/plain": [
              "Graph(num_nodes=6, num_edges=6,\n",
              "      ndata_schemes={}\n",
              "      edata_schemes={})"
            ]
          },
          "metadata": {},
          "execution_count": 96
        }
      ]
    },
    {
      "cell_type": "code",
      "source": [
        "nx.draw_networkx(lh.to_networkx())"
      ],
      "metadata": {
        "colab": {
          "base_uri": "https://localhost:8080/",
          "height": 406
        },
        "id": "Nxh2Tv-jjHVw",
        "outputId": "2ff55f0b-1d47-4210-ea8d-dce3e8ecc912"
      },
      "execution_count": 102,
      "outputs": [
        {
          "output_type": "display_data",
          "data": {
            "text/plain": [
              "<Figure size 640x480 with 1 Axes>"
            ],
            "image/png": "[encoded data removed]"
          },
          "metadata": {}
        }
      ]
    },
    {
      "cell_type": "code",
      "source": [
        "rh = h.reverse()\n",
        "rh"
      ],
      "metadata": {
        "colab": {
          "base_uri": "https://localhost:8080/"
        },
        "id": "JO3DcTwIjV4b",
        "outputId": "ec5cb12f-d202-43a6-a3cd-d274af644b9c"
      },
      "execution_count": 98,
      "outputs": [
        {
          "output_type": "execute_result",
          "data": {
            "text/plain": [
              "Graph(num_nodes=5, num_edges=6,\n",
              "      ndata_schemes={}\n",
              "      edata_schemes={})"
            ]
          },
          "metadata": {},
          "execution_count": 98
        }
      ]
    },
    {
      "cell_type": "code",
      "source": [
        "nx.draw_networkx(rh.to_networkx())"
      ],
      "metadata": {
        "colab": {
          "base_uri": "https://localhost:8080/",
          "height": 406
        },
        "id": "8Cizmx32kYyV",
        "outputId": "5e5e7287-e819-4c0f-9f45-9c4e25781b92"
      },
      "execution_count": 100,
      "outputs": [
        {
          "output_type": "display_data",
          "data": {
            "text/plain": [
              "<Figure size 640x480 with 1 Axes>"
            ],
            "image/png": "[encoded data removed]"
          },
          "metadata": {}
        }
      ]
    },
    {
      "cell_type": "code",
      "source": [
        "looped_g = g.add_self_loop(etype='intracts')"
      ],
      "metadata": {
        "id": "3HMHLkWfke_v"
      },
      "execution_count": 123,
      "outputs": []
    },
    {
      "cell_type": "code",
      "source": [
        "looped_g[('user', 'intracts', 'user')].edges('uv')"
      ],
      "metadata": {
        "colab": {
          "base_uri": "https://localhost:8080/"
        },
        "id": "stbf2ec2O7Mt",
        "outputId": "879222c4-0cb5-4d9a-bb51-c639603a3669"
      },
      "execution_count": 128,
      "outputs": [
        {
          "output_type": "execute_result",
          "data": {
            "text/plain": [
              "(tensor([0, 1, 0, 1, 2]), tensor([1, 0, 0, 1, 2]))"
            ]
          },
          "metadata": {},
          "execution_count": 128
        }
      ]
    },
    {
      "cell_type": "markdown",
      "source": [
        "As we see above, 'user' nodes have self loops."
      ],
      "metadata": {
        "id": "uz6iS3jsQGIF"
      }
    },
    {
      "cell_type": "code",
      "source": [
        "looped_h = h.add_self_loop()"
      ],
      "metadata": {
        "id": "_627vgLkMmYP"
      },
      "execution_count": 108,
      "outputs": []
    },
    {
      "cell_type": "code",
      "source": [
        "nx.draw_networkx(looped_h.to_networkx())"
      ],
      "metadata": {
        "colab": {
          "base_uri": "https://localhost:8080/",
          "height": 406
        },
        "id": "kbk9aJu6M7rx",
        "outputId": "c683c956-a77f-420a-c748-3c23bc4cf9b4"
      },
      "execution_count": 133,
      "outputs": [
        {
          "output_type": "display_data",
          "data": {
            "text/plain": [
              "<Figure size 640x480 with 1 Axes>"
            ],
            "image/png": "[encoded data removed]"
          },
          "metadata": {}
        }
      ]
    },
    {
      "cell_type": "code",
      "source": [
        "g = looped_g.remove_self_loop('intracts')"
      ],
      "metadata": {
        "id": "B0D_-FSiM_UA"
      },
      "execution_count": 127,
      "outputs": []
    },
    {
      "cell_type": "code",
      "source": [
        "g[('user', 'intracts', 'user')].edges('uv')"
      ],
      "metadata": {
        "colab": {
          "base_uri": "https://localhost:8080/"
        },
        "id": "NOKP3dPhQlI9",
        "outputId": "98b398ac-b572-4de7-93c0-157f2de101de"
      },
      "execution_count": 129,
      "outputs": [
        {
          "output_type": "execute_result",
          "data": {
            "text/plain": [
              "(tensor([0, 1]), tensor([1, 0]))"
            ]
          },
          "metadata": {},
          "execution_count": 129
        }
      ]
    },
    {
      "cell_type": "code",
      "source": [
        "h = looped_h.remove_self_loop()"
      ],
      "metadata": {
        "id": "79kwp8T6Ncfz"
      },
      "execution_count": 131,
      "outputs": []
    },
    {
      "cell_type": "code",
      "source": [
        "nx.draw_networkx(h.to_networkx())"
      ],
      "metadata": {
        "colab": {
          "base_uri": "https://localhost:8080/",
          "height": 406
        },
        "id": "yafxhOy_QwVl",
        "outputId": "ffee4b67-b06e-49da-cbfa-dfafd393624f"
      },
      "execution_count": 134,
      "outputs": [
        {
          "output_type": "display_data",
          "data": {
            "text/plain": [
              "<Figure size 640x480 with 1 Axes>"
            ],
            "image/png": "[encoded data removed]"
          },
          "metadata": {}
        }
      ]
    },
    {
      "cell_type": "code",
      "source": [
        "simple_g = g.to_simple()\n",
        "simple_g"
      ],
      "metadata": {
        "colab": {
          "base_uri": "https://localhost:8080/"
        },
        "id": "0lUXFBNLQ1aw",
        "outputId": "f4e33804-a4aa-4b2f-f5c0-ca3cf1512dc6"
      },
      "execution_count": 136,
      "outputs": [
        {
          "output_type": "execute_result",
          "data": {
            "text/plain": [
              "Graph(num_nodes={'director': 2, 'movie': 2, 'user': 3},\n",
              "      num_edges={('director', 'directs', 'movie'): 2, ('user', 'intracts', 'user'): 2, ('user', 'watches', 'movie'): 4},\n",
              "      metagraph=[('director', 'movie', 'directs'), ('user', 'user', 'intracts'), ('user', 'movie', 'watches')])"
            ]
          },
          "metadata": {},
          "execution_count": 136
        }
      ]
    },
    {
      "cell_type": "code",
      "source": [
        "simple_h = h.to_simple()"
      ],
      "metadata": {
        "id": "1uXm6KE7RWlM"
      },
      "execution_count": 137,
      "outputs": []
    },
    {
      "cell_type": "code",
      "source": [
        "nx.draw_networkx(simple_h.to_networkx())"
      ],
      "metadata": {
        "colab": {
          "base_uri": "https://localhost:8080/",
          "height": 406
        },
        "id": "Th4lKO9URhAQ",
        "outputId": "cbebe58c-ae2a-42fc-c03d-113cbf24919f"
      },
      "execution_count": 138,
      "outputs": [
        {
          "output_type": "display_data",
          "data": {
            "text/plain": [
              "<Figure size 640x480 with 1 Axes>"
            ],
            "image/png": "[encoded data removed]"
          },
          "metadata": {}
        }
      ]
    },
    {
      "cell_type": "code",
      "source": [
        "reordered_h = h.reorder_graph()"
      ],
      "metadata": {
        "id": "phHBVuzdSEtV"
      },
      "execution_count": 144,
      "outputs": []
    },
    {
      "cell_type": "code",
      "source": [
        "nx.draw_networkx(reordered_h.to_networkx())"
      ],
      "metadata": {
        "colab": {
          "base_uri": "https://localhost:8080/",
          "height": 406
        },
        "id": "_TRJj9qeSnnq",
        "outputId": "72f74b67-cdc7-408d-b5d3-e6768fe800bc"
      },
      "execution_count": 145,
      "outputs": [
        {
          "output_type": "display_data",
          "data": {
            "text/plain": [
              "<Figure size 640x480 with 1 Axes>"
            ],
            "image/png": "[encoded data removed]"
          },
          "metadata": {}
        }
      ]
    },
    {
      "cell_type": "code",
      "source": [
        "from dgl.data.utils import save_graphs\n",
        "save_graphs(\"./data.bin\", [g, h])"
      ],
      "metadata": {
        "id": "2qVG1lfaSw9X"
      },
      "execution_count": 146,
      "outputs": []
    },
    {
      "cell_type": "code",
      "source": [
        "from dgl.data.utils import load_graphs\n",
        "graph_list = load_graphs(\"./data.bin\")"
      ],
      "metadata": {
        "id": "Gau88H85S4bA"
      },
      "execution_count": 148,
      "outputs": []
    },
    {
      "cell_type": "code",
      "source": [],
      "metadata": {
        "id": "N9pyWbTzS9v_"
      },
      "execution_count": null,
      "outputs": []
    }
  ]
}